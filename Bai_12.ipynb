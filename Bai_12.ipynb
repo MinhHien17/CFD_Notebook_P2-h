{
 "cells": [
  {
   "cell_type": "markdown",
   "metadata": {},
   "source": [
    "Tài liệu này mang giấy phép Creative Commons Attribution (CC BY).\n",
    "(c) Nguyễn Ngọc Sáng, Zhukovsky 12/2018.\n",
    "\n",
    "[@SangVn](https://github.com/SangVn) [@VnCFD](https://vncfdgroup.wordpress.com/)\n",
    "\n",
    "*Thực hành CFD với Python!*"
   ]
  },
  {
   "cell_type": "markdown",
   "metadata": {},
   "source": [
    "# Bài 12. Sơ đồ Godunov, bài toán Riemann\n",
    "\n",
    "### 1. Sơ đồ sai phân bảo toàn\n",
    "Xét phương trình Burgers không nhớt dạng không phân kì:\n",
    "$$\\frac {\\partial u}{\\partial t} + u\\frac{\\partial u}{\\partial x} = 0 \\qquad (1)$$\n",
    "Phương trình này có thể biểu diễn lại ở dạng phân kì:\n",
    "$$\\frac {\\partial u}{\\partial t} + \\frac{\\partial F}{\\partial x} = 0; \\ F=\\frac{u^2}{2} \\qquad (2)$$\n",
    "\n",
    "Sử dụng phương pháp sai phân hữu hạn với sơ đồ upwind ta có hai sơ đồ sai phân tương ứng `dạng không bảo toàn và bảo toàn`:\n",
    "$$\\frac{u_i^{n+1}-u_i^n}{\\Delta t} + u_i^n\\frac{u_i^n - u_{i-1}^n}{\\Delta x} = 0 \\qquad (3)\\\\\n",
    "\\frac{u_i^{n+1}-u_i^n}{\\Delta t} + \\frac{F_i^n - F_{i-1}^n}{\\Delta x} = 0 \\qquad (4)$$\n",
    "Xét thêm sơ đồ bậc hai MacCormack:\n",
    "$$u_i^* = u_i^n - \\frac{\\Delta t}{\\Delta x} [F_{i+1}^n - F_i^n]\\\\\n",
    "u_i^{n+1} = \\frac{1}{2}(u_i^n + u_i^*) - \\frac{\\Delta t}{2\\Delta x} [F_i^* - F_{i-1}^*] \\qquad (5)$$\n",
    "\n",
    "Tìm nghiệm bài toán `lan truyền sóng xung kích` đã được giới thiệu ở [bài 5, phần 1](https://nbviewer.jupyter.org/github/SangVn/CFD_Notebook_P1/blob/master/Bai_5.ipynb):\n",
    "$$u(x,0)=a,x≤x_0;u(x,0)=b,x>x_0;a>b$$\n",
    "Nghiệm chính xác:\n",
    "$$u(x,t)=a,x≤x_0+st;u(x,t)=b,x>x_0+st$$\n",
    "với s là vận tốc dịch chuyển gián đoạn và bằng (a+b)/2. Nhờ biết được nghiệm chính xác, ta có thể dễ dàng kiểm tra kết quả tính toán."
   ]
  },
  {
   "cell_type": "code",
   "execution_count": 2,
   "metadata": {},
   "outputs": [
    {
     "data": {
      "image/png": "[encoded data removed]",
      "text/plain": [
       "<matplotlib.figure.Figure at 0x7f353a48e6d0>"
      ]
     },
     "metadata": {
      "needs_background": "light"
     },
     "output_type": "display_data"
    }
   ],
   "source": [
    "import numpy as np\n",
    "import matplotlib.pyplot as plt\n",
    "\n",
    "#chia lưới trên đoạn [0, 1]\n",
    "nx = 41\n",
    "x, dx = np.linspace(0, 1, nx, retstep=True)\n",
    "\n",
    "#bước thời gian\n",
    "r = 0.4 #điều kiện ổn định: u_max dt/dx <= 1\n",
    "dt = r*dx\n",
    "\n",
    "#điều kiện ban đầu\n",
    "uL = 1.2\n",
    "uR = 0.4\n",
    "\n",
    "u0 = np.zeros(nx)\n",
    "i = int(0.5/dx)\n",
    "u0[:i] = uL\n",
    "u0[i:] = uR\n",
    "\n",
    "#sơ đồ sai phân 3\n",
    "def nonconservative_scheme(nt):\n",
    "    u = u0.copy()\n",
    "    un = np.zeros(nx)\n",
    "    for n in range(nt):\n",
    "        un = u.copy()\n",
    "        u[1:] = un[1:] - dt/dx*un[1:]*(un[1:] - un[:-1])\n",
    "    return u\n",
    "\n",
    "#sơ đồ sai phân 4 (F=u^2/2)\n",
    "def conservative_scheme(nt):\n",
    "    u = u0.copy()\n",
    "    un = np.zeros(nx)\n",
    "    for n in range(nt):\n",
    "        un = u.copy()\n",
    "        u[1:] = un[1:] - dt/(2*dx)*(un[1:]**2 - un[:-1]**2)\n",
    "    return u\n",
    "\n",
    "#sơ đồ bậc hai MacCormack\n",
    "def second_order_scheme(nt):\n",
    "    u = u0.copy()\n",
    "    u1 = u0.copy()\n",
    "    un = np.zeros(nx)\n",
    "    for n in range(nt):\n",
    "        un = u.copy()\n",
    "        u1[1:-1] = un[1:-1] - dt/(2*dx)*(un[2:]**2 - un[1:-1]**2)\n",
    "        u[1:-1] = (un[1:-1] + u1[1:-1])/2 - dt/(4*dx)*(u1[1:-1]**2 - u1[:-2]**2)\n",
    "    return u    \n",
    "\n",
    "#so sánh nghiệm tìm được\n",
    "nt = 25\n",
    "u_1 = nonconservative_scheme(nt)\n",
    "u_2 = conservative_scheme(nt)\n",
    "u_3 = second_order_scheme(nt)\n",
    "#nghiệm chính xác: vận tốc lan truyền sóng xung kích s=(uL+uR)/2. = 0.8\n",
    "u_exact = np.zeros(nx)\n",
    "i = int((0.5 + 0.8*nt*dt)/dx)\n",
    "u_exact[:i] = uL\n",
    "u_exact[i:] = uR\n",
    "\n",
    "plt.plot(x, u_1, x, u_2, x, u_3, x, u_exact)\n",
    "plt.legend(['nonconservative scheme', 'conservative scheme', 'second-order scheme', 'exact solution'])\n",
    "plt.show()"
   ]
  },
  {
   "cell_type": "markdown",
   "metadata": {},
   "source": [
    "Ta thấy, với sơ đồ không bảo toàn, `sóng xung kích chuyển động sai vận tốc`, khác với trường hợp sơ đồ bảo toàn. Sử dụng sơ đồ bảo toàn là cần thiết. Ta cũng thấy rằng sơ đồ bậc hai cho gián đoạn có độ dốc lớn nhưng lại làm xuất hiện dao động.\n",
    "\n",
    "Như đã nói ở bài trước, ngoài sử dụng phương pháp sai phân hữu hạn biến đổi phương trình vi phân ở dạng phân kì để thu được sơ đồ sai phân bảo toàn, ta có thể sử dụng phương pháp `thể tích hữu hạn`.\n",
    "\n",
    "### 2. Phương pháp Godunov\n",
    "\n",
    "Sử dụng phương pháp `thể tích hữu hạn` ta thu được sơ đồ sai phân:\n",
    "$$\\frac{du}{dt} + \\frac{F_{i+1/2} - F_{i-1/2}}{\\Delta x} = 0$$\n",
    "với xấp xỉ thời gian upwind bậc 1 ta có:\n",
    "$$\\frac{u_i^{n+1} - u_i^n}{\\Delta t} + \\frac{F_{i+1/2} - F_{i-1/2}}{\\Delta x} = 0$$\n",
    "ở đây $u_i$ là giá trị trung bình trên đoạn [i-1/2, i+1/2]: \n",
    "$$u_i^n = \\frac{1}{\\Delta x}\\int_{i-1/2}^{i+1/2} u(x, t_n) dx$$\n",
    "\n",
    "Trong phương pháp Godunov hàm dòng F xác định như sau:\n",
    "$$F_{i-1/2}^* = F(u_{i-1/2}^*(u_{i-1/2}^L, u_{i-1/2}^R)); \\quad F_{i+1/2}^* = F(u_{i+1/2}^*(u_{i+1/2}^L, u_{i+1/2}^R))$$\n",
    "\n",
    "với $u^*$ là nghiệm của `bài toán Riemann - phân rã gián đoạn` trên bề mặt thể tích hữu hạn: cho giá trị u tại hai bên trái phải của bề mặt là uL, uR, tìm nghiệm $u^*(u_L, u_R)$ ở trên bề mặt. Godunov lấy uL, uR chính là giá trị trung bình u ở hai thể tích hữu hạn hai bên bề mặt đang xét $u_{i+1/2}^*(u_i, u_{i+1})$.\n",
    "\n",
    "\n",
    "**Bài toán Riemann**\n",
    "\n",
    "Chúng ta đã xem xét qua bài toán Riemann ở phần một, bây giờ ta sẽ nghiên cứu cụ thể hơn. Giả thiết bài toán:\n",
    "$$u_t + F(u)_x = 0 \\qquad (6)\\\\\n",
    "u(t=0)=u_0 = \n",
    "\\begin{cases}\n",
    "u_L; \\quad x<0 \\\\ \n",
    "u_R; \\quad x>0\n",
    "\\end{cases}\n",
    "$$\n",
    "<img src='img/Bai_12.png' width=400>\n",
    "\n",
    "Để giải bài toán này ta cần biết về `đường đặc trưng và sóng`.\n",
    "\n",
    "**Đường đặc trưng**\n",
    "\n",
    "Xét phương trình $u_t + au_x = 0 \\qquad (7)$. \n",
    "\n",
    "*Đường đặc trưng được định nghĩa là đường trong không gian mà dọc theo nó phương trình đạo hàm riêng (PDE) trở thành phương trình vi phân thường (ODE).*\n",
    "\n",
    "Xem $x=x(t)$, ta có:\n",
    "$$\\frac{du}{dt} = \\frac{\\partial u}{\\partial t} + \\frac{\\partial u}{\\partial x} \\frac{dx}{dt}$$\n",
    "Nếu $x'=a$ ta có:\n",
    "$$\\frac{du}{dt} = \\frac{\\partial u}{\\partial t} + a\\frac{\\partial u}{\\partial x} = 0$$\n",
    "Nghĩa là $u$ là hằng số dọc theo đường $\\frac{dx}{dt} = a$. Ở đây $a$ được gọi là vận tốc đặc trưng và bằng độ dốc của đường $x(t)$. Trong trường hợp tổng quát $a=a(x,t)$.\n",
    "\n",
    "Giả thiết tại thời điểm ban đầu $x(t=0)=x_0$, ta có nghiệm phương trình $x'=a$: $x=x_0+at$. Dọc theo đường đặc trưng u là hằng số nên ta có:\n",
    "$$u(x,t) = u(x(0),0)=u_0(x_0)=u_0(x-at)$$\n",
    "Nghiệm u chính là $u_0$ ban đầu được dịch chuyển với vận tốc $a$ sang trái hoặc sang phải tùy theo dấu của $a$. Quá trình này ta gọi là `dịch chuyển sóng`.\n",
    "\n",
    "<img src='img/Bai_12_2.png' width=600>\n",
    "\n",
    "Quay lại với bài toán Riemann, phương trình (6) có thể viết lại ở dạng: \n",
    "$$u_t + Au_x = 0$$ \n",
    "với $A=\\frac{\\partial F}{\\partial u}$ gọi là ma trận Jacobian. `Giá trị riêng` của ma trận A chính là vận tốc đường đặc trưng hay vận tốc dịch chuyển sóng. Đối với phương trình trình (7): $A=|a|, \\lambda = a$. Với a là hằng số, sóng dịch chuyển với vận tốc không đổi nên hình dạng không đổi. Đối với phương trình (2): $A=|u|, \\lambda=u$, sóng dịch chuyển với vận tốc phụ thuộc thời gian và không gian điều này có thể dẫn đến sự giao cắt, phân tách đường đặc trưng làm xuất hiện sóng va đập và sóng giãn như đã giới thiệu ở phần 1.\n",
    "\n",
    "Trong trường hợp bài toán Riemann cho phương trình (2), ta thấy sóng ở hai bên trái phải chuyển động với hai vận tốc khác nhau uL và uR.\n",
    "\n",
    "Tại $x_{i+i/2}$ 'cấu hình' đường đặc trưng có nhiều dạng phụ thuộc mối liên hệ uL, uR, ví dụ:\n",
    "\n",
    "<img src='img/Bai_12_3.png'>\n",
    "\n",
    "Hình 1 ngoài cùng bên trái: $u_L<0<u_R$, hình 2:$u_R>u_L>0$, hình 3: $u_L<u_R<0$, hình 4 ngoài cùng bên phải: $u_L>0>u_R, (u_L+u_R)/2<0$. **Chú ý:$u=dx/dt$.**  \n",
    "\n",
    "Căn cứ vào vị trí $x_{i+1/2}$ thuộc vùng 1, 2 hay 3 và mối liên hệ uL, uR - sóng nào dịch chuyển nhanh hơn, về phía nào để ta xác định $u^*$. Ví dụ như trên hình, hình 1 - $x_{i+1/2}$ nằm giữa (1) và (2) - lấy bằng 0, hình 2 - nằm trong (1) - lấy uL, hình 3 - nằm trong (2) - lấy uR, hình 4 - nằm trong vùng giao thoa, ở đây ta lấy sóng nào chuyển động nhanh hơn - ảnh hưởng mạnh hơn, chạy tới ${i+1/2}$ nhanh hơn. Tổng hợp tất cả các trường hợp ta có:\n",
    "\n",
    "Nếu $u_L > u_R$ - sóng xung kích:\n",
    "$$\n",
    "u* =\n",
    "\\begin{cases}\n",
    "u_L; \\ if\\quad \\frac{u_L+u_R}{2}>0 \\\\ \n",
    "u_R; \\ in\\ other\\ case\n",
    "\\end{cases}\n",
    "$$\n",
    "Nếu $u_L \\leq u_R$ - sóng giãn:\n",
    "\n",
    "$$\n",
    "u* =\n",
    "\\begin{cases}\n",
    "u_L; \\ if\\quad u_L>0 \\\\ \n",
    "u_R; \\ if\\quad u_R<0 \\\\\n",
    "0; \\quad if\\quad u_L \\leq 0 \\leq u_R\n",
    "\\end{cases}\n",
    "$$"
   ]
  },
  {
   "cell_type": "code",
   "execution_count": 2,
   "metadata": {},
   "outputs": [
    {
     "name": "stdout",
     "output_type": "stream",
     "text": [
      "CPU times: user 3.86 ms, sys: 0 ns, total: 3.86 ms\n",
      "Wall time: 2.73 ms\n",
      "CPU times: user 1.42 ms, sys: 186 µs, total: 1.61 ms\n",
      "Wall time: 1.15 ms\n"
     ]
    }
   ],
   "source": [
    "#tìm nghiệm bài toán Riemann\n",
    "def decay_godunov(uL, uR):\n",
    "    ustar = 0\n",
    "    if uL > uR:\n",
    "        if (uL + uR)/2. > 0: ustar = uL\n",
    "        else: ustar = uR\n",
    "    else:\n",
    "        if uL > 0: ustar = uL\n",
    "        elif uR < 0: ustar = uR\n",
    "        else: ustar = 0\n",
    "    return ustar\n",
    "\n",
    "#tính hàm dòng F(u*)\n",
    "def flux(u):\n",
    "    return u**2/2.\n",
    "\n",
    "#sơ đồ Godunov\n",
    "def godunov_method(nt):\n",
    "    u = u0.copy()\n",
    "    un = np.zeros(nx)\n",
    "    for n in range(nt):\n",
    "        un = u.copy()\n",
    "        for i in range(1, nx-1):\n",
    "            u_im05 = decay_godunov(un[i-1], un[i]) #u_{i-1/2}\n",
    "            u_ip05 = decay_godunov(un[i], un[i+1]) #u_{i+1/2}\n",
    "            u[i] = un[i] - dt/dx*(flux(u_ip05) - flux(u_im05))\n",
    "    return u\n",
    "\n",
    "#có thể viết lại code như sau\n",
    "def godunov_scheme(nt):\n",
    "    u = u0.copy()\n",
    "    un = np.zeros(nx)\n",
    "    for n in range(nt):\n",
    "        un = u.copy()\n",
    "        ustar = np.array([decay_godunov(ul, ur) for ul, ur in zip(un[:-1], un[1:])])\n",
    "        u[1:-1] = un[1:-1] - dt/dx*(flux(ustar[1:]) - flux(ustar[:-1]))\n",
    "            \n",
    "    return u\n",
    "\n",
    "%time u_g = godunov_method(nt)\n",
    "%time u_g_2 = godunov_scheme(nt)"
   ]
  },
  {
   "cell_type": "markdown",
   "metadata": {},
   "source": [
    "So sánh thời gian chạy hai đoạn code khác nhau, rõ ràng sử dụng tính toán mảng numpy nhanh hơn nhiều."
   ]
  },
  {
   "cell_type": "code",
   "execution_count": 3,
   "metadata": {},
   "outputs": [
    {
     "data": {
      "image/png": "[encoded data removed]",
      "text/plain": [
       "<matplotlib.figure.Figure at 0x7f8e4c1c9310>"
      ]
     },
     "metadata": {
      "needs_background": "light"
     },
     "output_type": "display_data"
    }
   ],
   "source": [
    "#lưu giá trị u_g vào file để so sánh ở bài 13\n",
    "np.savetxt('data/burgers_godunov_test1.dat', u_g)\n",
    "\n",
    "plt.plot(x, u_2, 'r+')\n",
    "plt.plot(x, u_g, x, u_exact)\n",
    "plt.plot(x, u_g_2, 'bx')\n",
    "\n",
    "plt.legend(['FDM', 'Godunov Method', 'Exact solution', 'u_g_2'])\n",
    "plt.show()"
   ]
  },
  {
   "cell_type": "markdown",
   "metadata": {},
   "source": [
    "Với bài toán chúng ta đang xét có uL = 1.2 > uR = 0.4, sơ đồ Godunov suy biến về dạng sơ đồ sai phân bảo toàn (4). Nghiệm thu được từ hai sơ đồ là như nhau."
   ]
  },
  {
   "cell_type": "code",
   "execution_count": 4,
   "metadata": {},
   "outputs": [],
   "source": [
    "#xét bài toán sóng giãn\n",
    "uL = -0.4 # <0 - dịch chuyển sang trái\n",
    "uR = 1.2  # >0 - dịch chuyển sang phải \n",
    "\n",
    "u0 = np.zeros(nx)\n",
    "i = int(0.5/dx)\n",
    "u0[:i] = uL\n",
    "u0[i:] = uR\n",
    "\n",
    "u_4 = nonconservative_scheme(nt)\n",
    "u_5 = conservative_scheme(nt)\n",
    "u_6 = godunov_scheme(nt)\n",
    "\n",
    "#lưu giá trị u_g vào file để so sánh ở bài 13\n",
    "np.savetxt('data/burgers_godunov_test2.dat', u_6)\n",
    "\n",
    "u_exact = u0.copy()\n",
    "t = nt*dt\n",
    "i = int((0.5 + uL*t)/dx)\n",
    "j = int((0.5 + uR*t)/dx)\n",
    "for k in range(i+1, j): u_exact[k] = (x[k]-0.5)/t"
   ]
  },
  {
   "cell_type": "code",
   "execution_count": 5,
   "metadata": {},
   "outputs": [
    {
     "data": {
      "image/png": "[encoded data removed]",
      "text/plain": [
       "<matplotlib.figure.Figure at 0x7f8e4c1aa190>"
      ]
     },
     "metadata": {
      "needs_background": "light"
     },
     "output_type": "display_data"
    }
   ],
   "source": [
    "plt.plot(x, u_4, x, u_5, x, u_6, x, u_exact)\n",
    "plt.legend(['nonconservative scheme','conservative scheme', 'godunov scheme', 'exact solution'])\n",
    "plt.show()"
   ]
  },
  {
   "cell_type": "markdown",
   "metadata": {},
   "source": [
    "Kết quả ba phương pháp là hoàn toàn khác biệt. Phương pháp Godunov cho kết quả chính xác hơn.\n",
    "\n",
    "Sơ đồ Godunov ta đang dùng là sơ đồ bậc 1, nó có tính chất tiêu tán, tính nhớt như đã phân tích ở phần 1.\n",
    "\n",
    "### [Bài 13. Định lý Godunov, sơ đồ TVD, sơ đồ MUSCL](Bai_13.ipynb)\n"
   ]
  },
  {
   "cell_type": "code",
   "execution_count": null,
   "metadata": {},
   "outputs": [],
   "source": []
  }
 ],
 "metadata": {
  "kernelspec": {
   "display_name": "Python 2",
   "language": "python",
   "name": "python2"
  },
  "language_info": {
   "codemirror_mode": {
    "name": "ipython",
    "version": 2
   },
   "file_extension": ".py",
   "mimetype": "text/x-python",
   "name": "python",
   "nbconvert_exporter": "python",
   "pygments_lexer": "ipython2",
   "version": "2.7.15rc1"
  }
 },
 "nbformat": 4,
 "nbformat_minor": 2
}
